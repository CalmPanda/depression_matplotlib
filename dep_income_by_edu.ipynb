{
 "cells": [
  {
   "cell_type": "code",
   "execution_count": 21,
   "metadata": {},
   "outputs": [],
   "source": [
    "import mysql.connector as cnt\n",
    "import matplotlib.pyplot as plt\n",
    "%matplotlib qt5\n",
    "import numpy as np"
   ]
  },
  {
   "cell_type": "code",
   "execution_count": 22,
   "metadata": {},
   "outputs": [],
   "source": [
    "DBworks = cnt.connect(\n",
    "host='localhost',\n",
    "user='root',\n",
    "password='***', # user MySQL database password\n",
    "database = 'vcshomework'\n",
    ")\n",
    "\n",
    "c = DBworks.cursor()"
   ]
  },
  {
   "cell_type": "code",
   "execution_count": 23,
   "metadata": {},
   "outputs": [],
   "source": [
    "c.execute(\"select avg(cb42) from dus_2014 where b21 = 'M' group by b25 order by b25\")\n",
    "atsm14 = c.fetchall()\n",
    "m_2014 = tuple()\n",
    "m_2014 = m_2014+(float(atsm14[0][0])/3.4528,)\n",
    "m_2014 = m_2014+(float(atsm14[1][0])/3.4528,)\n",
    "m_2014 = m_2014+(float(atsm14[2][0])/3.4528,)\n",
    "m_2014 = m_2014+(float(atsm14[3][0])/3.4528,)\n",
    "c.execute(\"select avg(cb42) from dus_2014 where b21 = 'F' group by b25 order by b25\")\n",
    "atsf14 = c.fetchall()\n",
    "f_2014 = tuple()\n",
    "f_2014 = f_2014+(float(atsf14[0][0])/3.4528,)\n",
    "f_2014 = f_2014+(float(atsf14[1][0])/3.4528,)\n",
    "f_2014 = f_2014+(float(atsf14[2][0])/3.4528,)\n",
    "f_2014 = f_2014+(float(atsf14[3][0])/3.4528,)"
   ]
  },
  {
   "cell_type": "code",
   "execution_count": 24,
   "metadata": {},
   "outputs": [],
   "source": [
    "c.execute(\"select avg(b42) from dus_2018 where b21 = 'M' group by b25 order by b25\")\n",
    "atsm18 = c.fetchall()\n",
    "m_2018 = tuple()\n",
    "m_2018 = m_2018+(float(atsm18[0][0]),)\n",
    "m_2018 = m_2018+(float(atsm18[1][0]),)\n",
    "m_2018 = m_2018+(float(atsm18[2][0]),)\n",
    "m_2018 = m_2018+(float(atsm18[3][0]),)\n",
    "c.execute(\"select avg(b42) from dus_2018 where b21 = 'F' group by b25 order by b25\")\n",
    "atsf18 = c.fetchall()\n",
    "f_2018 = tuple()\n",
    "f_2018 = f_2018+(float(atsf18[0][0]),)\n",
    "f_2018 = f_2018+(float(atsf18[1][0]),)\n",
    "f_2018 = f_2018+(float(atsf18[2][0]),)\n",
    "f_2018 = f_2018+(float(atsf18[3][0]),)"
   ]
  },
  {
   "cell_type": "code",
   "execution_count": 25,
   "metadata": {},
   "outputs": [],
   "source": [
    "c.execute(\"select `Percent` from depr_eu_education where GEO = 'Lithuania' and SEX = 'Males' and TIME = 2014 group by ISCED11 order by ISCED11\")\n",
    "atsmd14 = c.fetchall()\n",
    "md_2014 = tuple()\n",
    "md_2014 = md_2014+(float(atsmd14[0][0]),)\n",
    "md_2014 = md_2014+(float(atsmd14[1][0]),)\n",
    "md_2014 = md_2014+(float(atsmd14[2][0]),)\n",
    "c.execute(\"select `Percent` from depr_eu_education where GEO = 'Lithuania' and SEX = 'Females' and TIME = 2014 group by ISCED11 order by ISCED11\")\n",
    "atsfd14 = c.fetchall()\n",
    "fd_2014 = tuple()\n",
    "fd_2014 = fd_2014+(float(atsfd14[0][0]),)\n",
    "fd_2014 = fd_2014+(float(atsfd14[1][0]),)\n",
    "fd_2014 = fd_2014+(float(atsfd14[2][0]),)\n",
    "\n",
    "c.execute(\"select `Percent` from depr_eu_education where GEO = 'Lithuania' and SEX = 'Males' and TIME = 2018 group by ISCED11 order by ISCED11\")\n",
    "atsmd18 = c.fetchall()\n",
    "md_2018 = tuple()\n",
    "md_2018 = md_2018+(float(atsmd18[0][0]),)\n",
    "md_2018 = md_2018+(float(atsmd18[1][0]),)\n",
    "md_2018 = md_2018+(float(atsmd18[2][0]),)\n",
    "c.execute(\"select `Percent` from depr_eu_education where GEO = 'Lithuania' and SEX = 'Females' and TIME = 2018 group by ISCED11 order by ISCED11\")\n",
    "atsfd18 = c.fetchall()\n",
    "fd_2018 = tuple()\n",
    "fd_2018 = fd_2018+(float(atsfd18[0][0]),)\n",
    "fd_2018 = fd_2018+(float(atsfd18[1][0]),)\n",
    "fd_2018 = fd_2018+(float(atsfd18[2][0]),)\n"
   ]
  },
  {
   "cell_type": "code",
   "execution_count": 26,
   "metadata": {},
   "outputs": [],
   "source": [
    "fig, g = plt.subplots(2,2)\n",
    "ind0 = np.arange(4)\n",
    "ind1 = np.arange(3)\n",
    "p001 = g[0][0].bar(ind0, m_2014, width = 0.50, label='Men', color = 'royalblue')\n",
    "p002 = g[0][0].bar(ind0, f_2014, width = 0.50, bottom=m_2014, label='Women', color = 'coral')\n",
    "\n",
    "g[0][0].set_ylabel('EUR', color = 'dimgrey')\n",
    "g[0][0].set_title('2014')\n",
    "g[0][0].set_xticks(ind0, labels=['G1', 'G2', 'G3', 'G4'], fontsize=14)\n",
    "g[0][0].legend()\n",
    "g[0][0].bar_label(p001, label_type='center', fmt='%.0f')\n",
    "g[0][0].bar_label(p002, label_type='center', fmt='%.0f')\n",
    "\n",
    "p011 = g[0][1].bar(ind0, m_2018, width = 0.50, label='Men', color = 'royalblue')\n",
    "p012 = g[0][1].bar(ind0, f_2018, width = 0.50, bottom=m_2018, label='Women', color = 'coral')\n",
    "\n",
    "g[0][1].set_ylabel('EUR', color = 'dimgrey')\n",
    "g[0][1].set_title('2018')\n",
    "g[0][1].set_xticks(ind0, labels=['G1', 'G2', 'G3', 'G4'], fontsize=14)\n",
    "g[0][1].legend()\n",
    "g[0][1].bar_label(p011, label_type='center', fmt='%.0f')\n",
    "g[0][1].bar_label(p012, label_type='center', fmt='%.0f')\n",
    "\n",
    "p101 = g[1][0].bar(ind1, md_2014, width = 0.50, label='Men', color = 'royalblue')\n",
    "p102 = g[1][0].bar(ind1, fd_2014, width = 0.50, bottom=md_2014, label='Women', color = 'coral')\n",
    "\n",
    "g[1][0].set_ylabel('Percent', color = 'dimgrey')\n",
    "g[1][0].set_title('2014')\n",
    "g[1][0].set_xticks(ind1, labels=['G1', 'G2', 'G3'], fontsize=14)\n",
    "g[1][0].legend()\n",
    "g[1][0].bar_label(p101, label_type='center', fmt='%.2f')\n",
    "g[1][0].bar_label(p102, label_type='center', fmt='%.2f')\n",
    "\n",
    "# grafikas 1 1\n",
    "p111 = g[1][1].bar(ind1, md_2018, width = 0.50, label='Men', color = 'royalblue')\n",
    "p112 = g[1][1].bar(ind1, fd_2018, width = 0.50, bottom=md_2018, label='Women', color = 'coral')\n",
    "\n",
    "g[1][1].set_ylabel('Percent', color = 'dimgrey')\n",
    "g[1][1].set_title('2018')\n",
    "g[1][1].set_xticks(ind1, labels=['G1', 'G2', 'G3'], fontsize=14)\n",
    "g[1][1].legend()\n",
    "g[1][1].bar_label(p111, label_type='center', fmt='%.2f')\n",
    "g[1][1].bar_label(p112, label_type='center', fmt='%.2f')\n",
    "\n",
    "plt.suptitle('Avg salary vs Depression share (Lithuania)')\n",
    "plt.tight_layout()\n",
    "plt.show()\n",
    "DBworks.close()"
   ]
  }
 ],
 "metadata": {
  "interpreter": {
   "hash": "6bf825df638428019197aa6e7aa5ccf63fd9104a37838eddd797025320865b9d"
  },
  "kernelspec": {
   "display_name": "Python 3.10.2 64-bit",
   "language": "python",
   "name": "python3"
  },
  "language_info": {
   "codemirror_mode": {
    "name": "ipython",
    "version": 3
   },
   "file_extension": ".py",
   "mimetype": "text/x-python",
   "name": "python",
   "nbconvert_exporter": "python",
   "pygments_lexer": "ipython3",
   "version": "3.10.2"
  },
  "orig_nbformat": 4
 },
 "nbformat": 4,
 "nbformat_minor": 2
}
