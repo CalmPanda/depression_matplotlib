{
 "cells": [
  {
   "cell_type": "code",
   "execution_count": 1,
   "metadata": {},
   "outputs": [],
   "source": [
    "import pandas as pd\n",
    "import matplotlib.pyplot as plt\n",
    "%matplotlib qt5\n",
    "import numpy as np"
   ]
  },
  {
   "cell_type": "code",
   "execution_count": 2,
   "metadata": {},
   "outputs": [
    {
     "name": "stdout",
     "output_type": "stream",
     "text": [
      "<pandas.core.groupby.generic.DataFrameGroupBy object at 0x000002040019E950>\n",
      "dict_keys(['Africa', 'Asia', 'Caribbean', 'Central and South America', 'Europe', 'North America', 'Oceania'])\n",
      "<pandas.core.groupby.generic.DataFrameGroupBy object at 0x000002040019C100>\n",
      "dict_keys([2010, 2011, 2012, 2013, 2014, 2015, 2016, 2017, 2018, 2019])\n"
     ]
    }
   ],
   "source": [
    "depr_reg_year = pd.read_csv('depr_share_super.csv')\n",
    "region = depr_reg_year.groupby('Region')\n",
    "print(region)\n",
    "keysr = region.groups.keys()\n",
    "print(keysr)\n",
    "\n",
    "depr_year = depr_reg_year[depr_reg_year['Year'] > 2009]\n",
    "year = depr_year.groupby('Year')\n",
    "print(year)\n",
    "keysy = year.groups.keys()\n",
    "print(keysy)\n",
    "v1 = year.get_group(2010)['Percent'].values\n",
    "v2 = year.get_group(2011)['Percent'].values\n",
    "v3 = year.get_group(2012)['Percent'].values\n",
    "v4 = year.get_group(2013)['Percent'].values\n",
    "v5 = year.get_group(2014)['Percent'].values\n",
    "v6 = year.get_group(2015)['Percent'].values\n",
    "v7 = year.get_group(2016)['Percent'].values\n",
    "v8 = year.get_group(2017)['Percent'].values\n",
    "v9 = year.get_group(2018)['Percent'].values\n",
    "v10 = year.get_group(2019)['Percent'].values\n",
    "\n",
    "fig, g = plt.subplots(1,2)\n",
    "x = 1\n",
    "for groupr in keysr:\n",
    "    a = region.get_group(groupr)\n",
    "    sharea = a['Percent'].values\n",
    "    lbl = g[0].bar(x, np.average(sharea), color = 'green')\n",
    "    g[0].bar_label(lbl, fmt='%.2f')\n",
    "    x = x + 1\n",
    "g[0].set_xticks([1,2,3,4,5,6,7])\n",
    "g[0].set_xticklabels(keysr, rotation = 90)\n",
    "g[0].set_ylabel('Avg share', fontsize=14, color = 'dimgrey')\n",
    "\n",
    "g[1].boxplot([v1,v2, v3, v4, v5, v6, v7, v8, v9, v10], showfliers=False, showmeans = True)\n",
    "g[1].set_xticks([1,2,3,4,5,6,7,8,9,10])\n",
    "g[1].set_xticklabels(keysy, rotation = 45)\n",
    "g[1].set_ylabel('Avg share', fontsize=14, color = 'dimgrey')\n",
    "\n",
    "plt.suptitle('Depression share by region and year dynamics', fontsize = 14)\n",
    "plt.tight_layout\n",
    "plt.show()"
   ]
  }
 ],
 "metadata": {
  "interpreter": {
   "hash": "6bf825df638428019197aa6e7aa5ccf63fd9104a37838eddd797025320865b9d"
  },
  "kernelspec": {
   "display_name": "Python 3.10.2 64-bit",
   "language": "python",
   "name": "python3"
  },
  "language_info": {
   "codemirror_mode": {
    "name": "ipython",
    "version": 3
   },
   "file_extension": ".py",
   "mimetype": "text/x-python",
   "name": "python",
   "nbconvert_exporter": "python",
   "pygments_lexer": "ipython3",
   "version": "3.10.2"
  },
  "orig_nbformat": 4
 },
 "nbformat": 4,
 "nbformat_minor": 2
}
