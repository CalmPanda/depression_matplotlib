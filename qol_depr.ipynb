{
 "cells": [
  {
   "cell_type": "code",
   "execution_count": 1,
   "metadata": {},
   "outputs": [],
   "source": [
    "import pandas as pd\n",
    "import matplotlib.pyplot as plt\n",
    "%matplotlib qt5\n",
    "import numpy as np"
   ]
  },
  {
   "cell_type": "code",
   "execution_count": 2,
   "metadata": {},
   "outputs": [],
   "source": [
    "qolindx = pd.read_csv('qolindex.csv')\n",
    "depr_share = pd.read_csv('depr_share_super.csv')"
   ]
  },
  {
   "cell_type": "code",
   "execution_count": 3,
   "metadata": {},
   "outputs": [],
   "source": [
    "qol2012 = qolindx[(qolindx['Year'] >= 2012) & (qolindx['Year'] <= 2019)]\n",
    "depr2012 = depr_share[depr_share['Year'] >= 2012]"
   ]
  },
  {
   "cell_type": "code",
   "execution_count": 4,
   "metadata": {},
   "outputs": [
    {
     "name": "stdout",
     "output_type": "stream",
     "text": [
      "{'Bulgaria': [103.86, 2.867360469375], 'Sri Lanka': [76.11333333333333, 2.9978001936250003], 'Canada': [174.26714285714283, 3.584200780125], 'Portugal': [151.3957142857143, 4.836290492125], 'Lebanon': [65.77333333333333, 5.229655278], 'Kenya': [28.613333333333333, 4.873954584], 'Greece': [115.91285714285713, 5.431179536499999], 'Belarus': [108.22800000000002, 4.1911703925], 'New Zealand': [178.84285714285716, 4.119972900625001], 'Denmark': [188.70571428571427, 3.8841335787499998], 'Cambodia': [-0.9700000000000002, 3.043936892], 'Italy': [124.62142857142858, 3.791882310375], 'Finland': [185.62714285714284, 4.578335505], 'Dominican Republic': [43.6, 3.976180968375], 'Vietnam': [36.321666666666665, 2.5775518255], 'Peru': [88.14, 2.3086378585], 'Switzerland': [201.02714285714288, 4.105434771125], 'United States': [185.84571428571425, 4.771636056125001], 'Qatar': [152.21857142857144, 4.1635439519999995], 'Iran': [49.10857142857143, 5.18876028175], 'Saudi Arabia': [150.58857142857144, 4.38812907225], 'Netherlands': [173.6457142857143, 3.8471146635], 'Slovenia': [152.15, 3.38865881125], 'Turkmenistan': [157.09, 3.252421548], 'Slovakia': [134.88285714285715, 2.9031453836250005], 'North Macedonia': [95.90400000000001, 2.738148835375], 'Mongolia': [-20.543333333333337, 4.237066366625], 'India': [95.67428571428572, 3.795056390375], 'Pakistan': [63.93714285714285, 3.9922432335], 'Ecuador': [61.93000000000001, 3.5190236205000005], 'Uruguay': [99.64500000000001, 3.0789233664999998], 'Belgium': [151.4057142857143, 3.915709674375], 'Sweden': [182.04999999999998, 4.507607169], 'Malaysia': [84.96571428571428, 3.817375068875], 'Bahrain': [84.06, 4.737942512749999], 'Venezuela': [-53.64666666666667, 3.3460407165], 'Nigeria': [2.99, 3.913454003], 'Armenia': [49.07, 3.150415235375], 'Croatia': [138.83714285714285, 3.231512211125], 'Jordan': [89.91166666666668, 4.340209306875], 'Spain': [159.07857142857142, 5.0468490011250005], 'Latvia': [126.315, 4.028423388875], 'Egypt': [50.231428571428566, 4.067338652625], 'Ukraine': [63.902857142857144, 4.214157849875], 'Moldova': [42.13, 3.4561557787500004], 'Turkey': [105.08142857142856, 4.224395192], 'Kuwait': [117.82, 4.282725585625], 'United Arab Emirates': [159.42857142857142, 3.72391622625], 'Cyprus': [155.676, 3.28141189875], 'Australia': [181.19571428571427, 4.895622814999999], 'China': [64.7357142857143, 2.92958864525], 'United Kingdom': [163.25285714285715, 4.507200948375], 'Mexico': [109.6957142857143, 3.7502051185000003], 'Bolivia': [2.535, 3.567832917375], 'Germany': [191.49, 3.81559990775], 'Romania': [110.39857142857144, 2.82919720375], 'Argentina': [107.46857142857142, 2.59805564325], 'Ireland': [156.56857142857143, 4.55331318225], 'Panama': [94.94250000000001, 3.113560059875], 'Austria': [181.12999999999997, 3.4106078198749996], 'Russia': [64.82142857142857, 3.34002005325], 'Puerto Rico': [118.23666666666666, 2.9825610183749998], 'Serbia': [100.03285714285713, 3.00495214875], 'Kazakhstan': [58.79666666666666, 3.679821306625], 'Taiwan': [130.54857142857142, 2.762179546875], 'Chile': [103.5542857142857, 4.00622735025], 'Georgia': [71.035, 3.4929300828749996], 'France': [152.95285714285714, 4.2498609883750005], 'Japan': [166.46285714285713, 2.3038546667500004], 'Norway': [173.28571428571428, 3.446853677375], 'Lithuania': [131.06571428571428, 4.304818946875001], 'Thailand': [66.22, 3.0052970351250003], 'Morocco': [103.67, 5.325341693124999], 'Brazil': [71.83714285714285, 4.0266794228750005], 'Philippines': [55.785714285714285, 2.858427567875], 'Indonesia': [52.32142857142856, 2.4760751059999997], 'South Africa': [130.04571428571427, 4.406291765375], 'Hungary': [115.76142857142858, 3.04869512375], 'Israel': [135.60000000000002, 4.5137392645], 'Poland': [127.41285714285713, 2.324909843375], 'Bangladesh': [31.97, 4.72615443325], 'Estonia': [162.65000000000003, 4.003558159500001], 'Iceland': [184.98000000000002, 3.1930230273749998], 'Colombia': [82.5442857142857, 2.317566806]}\n"
     ]
    }
   ],
   "source": [
    "# avg Quality of Life index by country \n",
    "qol_group = qol2012.groupby('Country')\n",
    "qolkeys = qol_group.groups.keys()\n",
    "qolavg = []\n",
    "for i in qolkeys:\n",
    "    qolqr = qol_group.get_group(i)\n",
    "    qolv = qolqr['QoL Index'].values\n",
    "    qolavg.append(np.average(qolv))\n",
    "# dictionary\n",
    "qoldict = dict(zip(qolkeys,qolavg))\n",
    "# print(qoldict)\n",
    "\n",
    "# avg Depression share by country \n",
    "depr_group = depr2012.groupby('Entity')\n",
    "deprkeys = depr_group.groups.keys()\n",
    "depravg = []\n",
    "for i in deprkeys:\n",
    "    deprqr = depr_group.get_group(i)\n",
    "    deprlv = deprqr['Percent'].values\n",
    "    depravg.append(np.average(deprlv))\n",
    "\n",
    "# dictionary\n",
    "deprdict = dict(zip(deprkeys,depravg))\n",
    "\n",
    "# join dictionaries\n",
    "data_dict = {}\n",
    "for key in (qoldict.keys() | deprdict.keys()):\n",
    "    if key in qoldict: data_dict.setdefault(key, []).append(qoldict[key])\n",
    "    if key in deprdict: data_dict.setdefault(key, []).append(deprdict[key])\n",
    "  \n",
    "# only 2 values elements (cleaning dictionary)\n",
    "data_dict = {key:val for key, val in data_dict.items() if len(val) == 2}\n",
    "print(data_dict)\n",
    "\n",
    "x= []\n",
    "y = []\n",
    "for i in data_dict.values():\n",
    "    x.append(i[0])\n",
    "    y.append(i[1])\n",
    "\n",
    "fig, ax = plt.subplots()\n",
    "ax.scatter(x, y, marker = '*', color = 'green')\n",
    "ax.set_xlabel('Quality of Life Index', fontsize=14, color = 'dimgrey')\n",
    "ax.set_ylabel('Depression share', fontsize=14, color = 'dimgrey')\n",
    "\n",
    "plt.suptitle('Depression share / QoL Index', fontsize = 14)\n",
    "plt.tight_layout\n",
    "plt.show()"
   ]
  }
 ],
 "metadata": {
  "interpreter": {
   "hash": "6bf825df638428019197aa6e7aa5ccf63fd9104a37838eddd797025320865b9d"
  },
  "kernelspec": {
   "display_name": "Python 3.10.2 64-bit",
   "language": "python",
   "name": "python3"
  },
  "language_info": {
   "codemirror_mode": {
    "name": "ipython",
    "version": 3
   },
   "file_extension": ".py",
   "mimetype": "text/x-python",
   "name": "python",
   "nbconvert_exporter": "python",
   "pygments_lexer": "ipython3",
   "version": "3.10.2"
  },
  "orig_nbformat": 4
 },
 "nbformat": 4,
 "nbformat_minor": 2
}
