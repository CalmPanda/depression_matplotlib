{
 "cells": [
  {
   "cell_type": "code",
   "execution_count": 8,
   "metadata": {},
   "outputs": [],
   "source": [
    "import mysql.connector as CNT\n",
    "import matplotlib.pyplot as plt\n",
    "%matplotlib qt5"
   ]
  },
  {
   "cell_type": "code",
   "execution_count": 6,
   "metadata": {},
   "outputs": [],
   "source": [
    "DBworks = CNT.connect(\n",
    "host='localhost',\n",
    "user='root',\n",
    "password='***', # *** change to user MySQL password\n",
    "database = 'vcshomework'\n",
    ")\n",
    "\n",
    "c = DBworks.cursor()"
   ]
  },
  {
   "cell_type": "code",
   "execution_count": 14,
   "metadata": {},
   "outputs": [],
   "source": [
    "c.execute(\"select Percent from depr_eu_urban where SEX = 'Total' and GEO = 'Lithuania' and DEG_URB != 'Total' order by DEG_URB\")\n",
    "ats1 = c.fetchall()\n",
    "y1 = []\n",
    "for i in ats1:\n",
    "    y1.append(i[0])\n",
    "c.execute(\"select Percent from depr_eu_urban where SEX = 'Females' and GEO = 'Lithuania' and DEG_URB != 'Total' order by DEG_URB\")\n",
    "ats2 = c.fetchall()\n",
    "y2 = []\n",
    "for i in ats2:\n",
    "    y2.append(i[0])\n",
    "c.execute(\"select Percent from depr_eu_urban where SEX = 'Males' and GEO = 'Lithuania' and DEG_URB != 'Total' order by DEG_URB\")\n",
    "ats3 = c.fetchall()\n",
    "y3 = []\n",
    "for i in ats3:\n",
    "    y3.append(i[0])\n",
    "x = [1,2,3]\n",
    "c.execute(\"select Percent from depr_eu_urban where SEX = 'Total' and GEO = 'United Kingdom' and DEG_URB != 'Total' order by DEG_URB\")\n",
    "ats4 = c.fetchall()\n",
    "y4 = []\n",
    "for i in ats4:\n",
    "    y4.append(i[0])\n",
    "c.execute(\"select Percent from depr_eu_urban where SEX = 'Females' and GEO = 'United Kingdom' and DEG_URB != 'Total' order by DEG_URB\")\n",
    "ats5 = c.fetchall()\n",
    "y5 = []\n",
    "for i in ats5:\n",
    "    y5.append(i[0])\n",
    "c.execute(\"select Percent from depr_eu_urban where SEX = 'Males' and GEO = 'United Kingdom' and DEG_URB != 'Total' order by DEG_URB\")\n",
    "ats6 = c.fetchall()\n",
    "y6 = []\n",
    "for i in ats6:\n",
    "    y6.append(i[0])\n",
    "x = [1,2,3]\n",
    "fig, ax = plt.subplots(1,2)\n",
    "ax[0].plot(x,y1, color = 'green', label = 'Total', marker = 'h', ms = 8, mfc = 'white', mec = 'g')\n",
    "ax[0].plot(x,y2, color = 'coral', label = 'Females', marker = 'h', ms = 8, mfc = 'white', mec = 'coral')\n",
    "ax[0].plot(x,y3, color = 'royalblue', label = 'Males', marker = 'h', ms = 8, mfc = 'white', mec = 'royalblue')\n",
    "ax[0].set_xticks([1,2,3], fontsize=14)\n",
    "ax[0].set_xticklabels(['Cities', 'Rural', 'Town/Suburb'])\n",
    "ax[0].set_ylim([0,15])\n",
    "ax[0].legend(loc=9)\n",
    "ax[0].title.set_text('Lithuania')\n",
    "ax[1].plot(x,y4, color = 'green', label = 'Total', marker = 'h', ms = 8, mfc = 'white', mec = 'g')\n",
    "ax[1].plot(x,y5, color = 'coral', label = 'Females', marker = 'h', ms = 8, mfc = 'white', mec = 'coral')\n",
    "ax[1].plot(x,y6, color = 'royalblue', label = 'Males', marker = 'h', ms = 8, mfc = 'white', mec = 'royalblue')\n",
    "ax[1].set_xticks([1,2,3], fontsize = 14)\n",
    "ax[1].set_xticklabels(['Cities', 'Rural', 'Town/Suburb'])\n",
    "ax[1].set_ylim([0,15])\n",
    "ax[1].legend(loc=9)\n",
    "ax[1].title.set_text('United Kingdom')\n",
    "plt.suptitle('Depression by residence', fontsize = 14)\n",
    "plt.tight_layout()\n",
    "plt.show()\n"
   ]
  }
 ],
 "metadata": {
  "interpreter": {
   "hash": "6bf825df638428019197aa6e7aa5ccf63fd9104a37838eddd797025320865b9d"
  },
  "kernelspec": {
   "display_name": "Python 3.10.2 64-bit",
   "language": "python",
   "name": "python3"
  },
  "language_info": {
   "codemirror_mode": {
    "name": "ipython",
    "version": 3
   },
   "file_extension": ".py",
   "mimetype": "text/x-python",
   "name": "python",
   "nbconvert_exporter": "python",
   "pygments_lexer": "ipython3",
   "version": "3.10.1"
  },
  "orig_nbformat": 4
 },
 "nbformat": 4,
 "nbformat_minor": 2
}
